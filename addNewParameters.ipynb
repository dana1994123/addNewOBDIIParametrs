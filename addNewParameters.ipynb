{
 "cells": [
  {
   "cell_type": "code",
   "execution_count": 11,
   "id": "e3bece8c-93ec-499d-9ba8-bc7fec288ac9",
   "metadata": {},
   "outputs": [],
   "source": [
    "import pandas as pd\n",
    "import numpy as np\n",
    "import matplotlib.pyplot as plt\n",
    "import json\n",
    "import random\n",
    "import csv\n",
    "import secrets\n",
    "import string\n"
   ]
  },
  {
   "cell_type": "code",
   "execution_count": 13,
   "id": "35ff0e0c-f647-44ae-87b7-5656c2039145",
   "metadata": {},
   "outputs": [],
   "source": [
    "#a file with the new OBDII params \n",
    "csv_file_path = \"EVOBDParameters.csv\"\n",
    "\n",
    "#get the data from parametrs json\n",
    "data_params = open('parameters.json' , 'r')\n",
    "data2 = json.load(data_params)\n",
    "\n",
    "# Read the CSV file and convert each row to a JSON object\n",
    "data2 =[]\n",
    "with open(csv_file_path, 'r', encoding='utf-8-sig') as csv_file:\n",
    "    csv_reader = csv.DictReader(csv_file)\n",
    "    for row in csv_reader:\n",
    "        data2.append(row)\n",
    "        \n",
    "    \n",
    "#save the new data to new json file \n",
    "with open('parametrsv2.json', 'w') as f:\n",
    "    json.dump(data2, f)\n",
    "        "
   ]
  },
  {
   "cell_type": "code",
   "execution_count": null,
   "id": "9f24ff45-00f9-4c65-b471-fb2daeb6cb8a",
   "metadata": {},
   "outputs": [],
   "source": []
  }
 ],
 "metadata": {
  "kernelspec": {
   "display_name": "Python 3 (ipykernel)",
   "language": "python",
   "name": "python3"
  },
  "language_info": {
   "codemirror_mode": {
    "name": "ipython",
    "version": 3
   },
   "file_extension": ".py",
   "mimetype": "text/x-python",
   "name": "python",
   "nbconvert_exporter": "python",
   "pygments_lexer": "ipython3",
   "version": "3.9.7"
  }
 },
 "nbformat": 4,
 "nbformat_minor": 5
}
